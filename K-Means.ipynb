{
 "cells": [
  {
   "cell_type": "code",
   "execution_count": 71,
   "id": "004181bc-a163-42ea-a851-698b7e843498",
   "metadata": {},
   "outputs": [],
   "source": [
    "import pandas as pd\n",
    "import matplotlib.pyplot as plt\n",
    "import random\n",
    "import math"
   ]
  },
  {
   "cell_type": "code",
   "execution_count": 72,
   "id": "760fad2f-fbbe-44b6-afc8-2cb11a010353",
   "metadata": {},
   "outputs": [
    {
     "data": {
      "text/html": [
       "<div>\n",
       "<style scoped>\n",
       "    .dataframe tbody tr th:only-of-type {\n",
       "        vertical-align: middle;\n",
       "    }\n",
       "\n",
       "    .dataframe tbody tr th {\n",
       "        vertical-align: top;\n",
       "    }\n",
       "\n",
       "    .dataframe thead th {\n",
       "        text-align: right;\n",
       "    }\n",
       "</style>\n",
       "<table border=\"1\" class=\"dataframe\">\n",
       "  <thead>\n",
       "    <tr style=\"text-align: right;\">\n",
       "      <th></th>\n",
       "      <th>CustomerID</th>\n",
       "      <th>Gender</th>\n",
       "      <th>Age</th>\n",
       "      <th>Annual Income (k$)</th>\n",
       "      <th>Spending Score (1-100)</th>\n",
       "    </tr>\n",
       "  </thead>\n",
       "  <tbody>\n",
       "    <tr>\n",
       "      <th>0</th>\n",
       "      <td>1</td>\n",
       "      <td>Male</td>\n",
       "      <td>19</td>\n",
       "      <td>15</td>\n",
       "      <td>39</td>\n",
       "    </tr>\n",
       "    <tr>\n",
       "      <th>1</th>\n",
       "      <td>2</td>\n",
       "      <td>Male</td>\n",
       "      <td>21</td>\n",
       "      <td>15</td>\n",
       "      <td>81</td>\n",
       "    </tr>\n",
       "    <tr>\n",
       "      <th>2</th>\n",
       "      <td>3</td>\n",
       "      <td>Female</td>\n",
       "      <td>20</td>\n",
       "      <td>16</td>\n",
       "      <td>6</td>\n",
       "    </tr>\n",
       "    <tr>\n",
       "      <th>3</th>\n",
       "      <td>4</td>\n",
       "      <td>Female</td>\n",
       "      <td>23</td>\n",
       "      <td>16</td>\n",
       "      <td>77</td>\n",
       "    </tr>\n",
       "    <tr>\n",
       "      <th>4</th>\n",
       "      <td>5</td>\n",
       "      <td>Female</td>\n",
       "      <td>31</td>\n",
       "      <td>17</td>\n",
       "      <td>40</td>\n",
       "    </tr>\n",
       "    <tr>\n",
       "      <th>5</th>\n",
       "      <td>6</td>\n",
       "      <td>Female</td>\n",
       "      <td>22</td>\n",
       "      <td>17</td>\n",
       "      <td>76</td>\n",
       "    </tr>\n",
       "    <tr>\n",
       "      <th>6</th>\n",
       "      <td>7</td>\n",
       "      <td>Female</td>\n",
       "      <td>35</td>\n",
       "      <td>18</td>\n",
       "      <td>6</td>\n",
       "    </tr>\n",
       "    <tr>\n",
       "      <th>7</th>\n",
       "      <td>8</td>\n",
       "      <td>Female</td>\n",
       "      <td>23</td>\n",
       "      <td>18</td>\n",
       "      <td>94</td>\n",
       "    </tr>\n",
       "    <tr>\n",
       "      <th>8</th>\n",
       "      <td>9</td>\n",
       "      <td>Male</td>\n",
       "      <td>64</td>\n",
       "      <td>19</td>\n",
       "      <td>3</td>\n",
       "    </tr>\n",
       "    <tr>\n",
       "      <th>9</th>\n",
       "      <td>10</td>\n",
       "      <td>Female</td>\n",
       "      <td>30</td>\n",
       "      <td>19</td>\n",
       "      <td>72</td>\n",
       "    </tr>\n",
       "  </tbody>\n",
       "</table>\n",
       "</div>"
      ],
      "text/plain": [
       "   CustomerID  Gender  Age  Annual Income (k$)  Spending Score (1-100)\n",
       "0           1    Male   19                  15                      39\n",
       "1           2    Male   21                  15                      81\n",
       "2           3  Female   20                  16                       6\n",
       "3           4  Female   23                  16                      77\n",
       "4           5  Female   31                  17                      40\n",
       "5           6  Female   22                  17                      76\n",
       "6           7  Female   35                  18                       6\n",
       "7           8  Female   23                  18                      94\n",
       "8           9    Male   64                  19                       3\n",
       "9          10  Female   30                  19                      72"
      ]
     },
     "execution_count": 72,
     "metadata": {},
     "output_type": "execute_result"
    }
   ],
   "source": [
    "df = pd.read_csv(\"Mall_Customers.csv\")\n",
    "data_len = len(df)\n",
    "df.head(10)"
   ]
  },
  {
   "cell_type": "code",
   "execution_count": 73,
   "id": "f720b334-a1b3-459c-9370-777c85d8b411",
   "metadata": {},
   "outputs": [
    {
     "data": {
      "text/plain": [
       "(200, 5)"
      ]
     },
     "execution_count": 73,
     "metadata": {},
     "output_type": "execute_result"
    }
   ],
   "source": [
    "df.shape"
   ]
  },
  {
   "cell_type": "code",
   "execution_count": 74,
   "id": "f8f3cd60-4027-4212-bc28-e2d60590ca73",
   "metadata": {},
   "outputs": [
    {
     "name": "stdout",
     "output_type": "stream",
     "text": [
      "<class 'pandas.core.frame.DataFrame'>\n",
      "RangeIndex: 200 entries, 0 to 199\n",
      "Data columns (total 5 columns):\n",
      " #   Column                  Non-Null Count  Dtype \n",
      "---  ------                  --------------  ----- \n",
      " 0   CustomerID              200 non-null    int64 \n",
      " 1   Gender                  200 non-null    object\n",
      " 2   Age                     200 non-null    int64 \n",
      " 3   Annual Income (k$)      200 non-null    int64 \n",
      " 4   Spending Score (1-100)  200 non-null    int64 \n",
      "dtypes: int64(4), object(1)\n",
      "memory usage: 7.9+ KB\n"
     ]
    }
   ],
   "source": [
    "df.info()"
   ]
  },
  {
   "cell_type": "code",
   "execution_count": 75,
   "id": "d411497b-c98b-437b-a1ce-24655258663c",
   "metadata": {},
   "outputs": [
    {
     "data": {
      "image/png": "[encoded data removed]",
      "text/plain": [
       "<Figure size 1000x600 with 1 Axes>"
      ]
     },
     "metadata": {},
     "output_type": "display_data"
    }
   ],
   "source": [
    "# Visualisation de la distribution des clients\n",
    "plt.figure(figsize=(10, 6))\n",
    "plt.scatter(df['Annual Income (k$)'], df['Spending Score (1-100)'], color='b', alpha=0.5)\n",
    "plt.title('Répartition des clients selon le revenu annuel et le Spending Score')\n",
    "plt.xlabel('Revenu Annuel (k$)')\n",
    "plt.ylabel('Spending Score (1-100)')\n",
    "plt.grid(True)\n",
    "plt.show()"
   ]
  },
  {
   "cell_type": "code",
   "execution_count": 76,
   "id": "281da1f5-a80c-4d70-ae42-2fe1aa7d7d72",
   "metadata": {},
   "outputs": [],
   "source": [
    "def initialize_centroids(data, k):\n",
    "    if (k <= 0):\n",
    "        return []\n",
    "    indices = random.sample(range(len(data)), k)\n",
    "    points = [(float(data.iloc[i]['Annual Income (k$)']), float(data.iloc[i]['Spending Score (1-100)'])) for i in indices]\n",
    "    return points"
   ]
  },
  {
   "cell_type": "code",
   "execution_count": 77,
   "id": "24c374f5-a271-4922-85b3-cbb276c12bf5",
   "metadata": {},
   "outputs": [
    {
     "name": "stdout",
     "output_type": "stream",
     "text": [
      "[(63.0, 48.0), (126.0, 74.0), (78.0, 16.0), (78.0, 78.0), (40.0, 42.0)]\n"
     ]
    }
   ],
   "source": [
    "centroids = initialize_centroids(df, 5)\n",
    "print(centroids)"
   ]
  },
  {
   "cell_type": "code",
   "execution_count": 78,
   "id": "b71e0ce1-950e-4230-b786-f8bea250cf15",
   "metadata": {},
   "outputs": [],
   "source": [
    "def assign_clusters(data, centroids):\n",
    "    labels = []\n",
    "    for i in range(data_len):\n",
    "        distances = [math.sqrt((data.iloc[i]['Annual Income (k$)'] - centroids[j][0])**2 + (data.iloc[i]['Spending Score (1-100)'] - centroids[j][1])**2) for j in range(len(centroids))]\n",
    "        labels.append(centroids[distances.index(min(distances))])\n",
    "    return labels"
   ]
  },
  {
   "cell_type": "code",
   "execution_count": 94,
   "id": "f236664b-b8d7-4a2a-af57-c3738a8faaa4",
   "metadata": {},
   "outputs": [
    {
     "data": {
      "text/plain": [
       "[(26.304347826086957, 20.91304347826087),\n",
       " (25.727272727272727, 79.36363636363636),\n",
       " (26.304347826086957, 20.91304347826087),\n",
       " (25.727272727272727, 79.36363636363636),\n",
       " (26.304347826086957, 20.91304347826087),\n",
       " (25.727272727272727, 79.36363636363636),\n",
       " (26.304347826086957, 20.91304347826087),\n",
       " (25.727272727272727, 79.36363636363636),\n",
       " (26.304347826086957, 20.91304347826087),\n",
       " (25.727272727272727, 79.36363636363636),\n",
       " (26.304347826086957, 20.91304347826087),\n",
       " (25.727272727272727, 79.36363636363636),\n",
       " (26.304347826086957, 20.91304347826087),\n",
       " (25.727272727272727, 79.36363636363636),\n",
       " (26.304347826086957, 20.91304347826087),\n",
       " (25.727272727272727, 79.36363636363636),\n",
       " (26.304347826086957, 20.91304347826087),\n",
       " (25.727272727272727, 79.36363636363636),\n",
       " (26.304347826086957, 20.91304347826087),\n",
       " (25.727272727272727, 79.36363636363636)]"
      ]
     },
     "execution_count": 94,
     "metadata": {},
     "output_type": "execute_result"
    }
   ],
   "source": [
    "test = assign_clusters(df, centroids)\n",
    "test[:20]"
   ]
  },
  {
   "cell_type": "code",
   "execution_count": 80,
   "id": "154ca682-3386-4ea4-8f1b-b579151109a8",
   "metadata": {},
   "outputs": [],
   "source": [
    "def update_centroids(data, labels, centroids, k):\n",
    "    new_centroids = []\n",
    "    for i in range(k):\n",
    "        cluster_points = [j for j in range(data_len) if(labels[j] == centroids[i])]\n",
    "        if (len(cluster_points) != 0):\n",
    "            centroid_x = sum([data.iloc[j]['Annual Income (k$)'] for j in cluster_points]) / len(cluster_points)\n",
    "            centroid_y = sum([data.iloc[j]['Spending Score (1-100)'] for j in cluster_points]) / len(cluster_points)\n",
    "            new_centroids.append((float(centroid_x), float(centroid_y)))\n",
    "        else :\n",
    "            new_centroids.append((0, 0))\n",
    "    return new_centroids"
   ]
  },
  {
   "cell_type": "code",
   "execution_count": 81,
   "id": "14c503ac-427c-45e0-a462-5011e90dee7e",
   "metadata": {},
   "outputs": [],
   "source": [
    "def kmeans(data, k, max_iter=100):\n",
    "    centroids = initialize_centroids(data, k)\n",
    "\n",
    "    for i in range(max_iter):\n",
    "        labels = assign_clusters(data, centroids)\n",
    "        new_centroids = update_centroids(data, labels, centroids, k)\n",
    "        centroids = new_centroids\n",
    "    return labels, centroids"
   ]
  },
  {
   "cell_type": "code",
   "execution_count": 88,
   "id": "519d5346-dd5c-4f1b-970c-5297f365c0fd",
   "metadata": {},
   "outputs": [],
   "source": [
    "labels, centroids = kmeans(df, 5, max_iter=100)\n",
    "\n",
    "clusters = [[i for i in range(data_len) if(labels[i] == centroid)] for centroid in centroids]"
   ]
  },
  {
   "cell_type": "code",
   "execution_count": 1,
   "id": "31d55bc9-4c8b-4f34-9bd4-e6282b823fba",
   "metadata": {},
   "outputs": [
    {
     "ename": "NameError",
     "evalue": "name 'plt' is not defined",
     "output_type": "error",
     "traceback": [
      "\u001b[31m---------------------------------------------------------------------------\u001b[39m",
      "\u001b[31mNameError\u001b[39m                                 Traceback (most recent call last)",
      "\u001b[36mCell\u001b[39m\u001b[36m \u001b[39m\u001b[32mIn[1]\u001b[39m\u001b[32m, line 1\u001b[39m\n\u001b[32m----> \u001b[39m\u001b[32m1\u001b[39m \u001b[43mplt\u001b[49m.figure(figsize=(\u001b[32m10\u001b[39m, \u001b[32m6\u001b[39m))\n\u001b[32m      2\u001b[39m colors = [\u001b[33m'\u001b[39m\u001b[33mred\u001b[39m\u001b[33m'\u001b[39m, \u001b[33m'\u001b[39m\u001b[33mblue\u001b[39m\u001b[33m'\u001b[39m, \u001b[33m'\u001b[39m\u001b[33mhotpink\u001b[39m\u001b[33m'\u001b[39m, \u001b[33m'\u001b[39m\u001b[33morange\u001b[39m\u001b[33m'\u001b[39m, \u001b[33m'\u001b[39m\u001b[33mgreen\u001b[39m\u001b[33m'\u001b[39m]\n\u001b[32m      3\u001b[39m \u001b[38;5;28;01mfor\u001b[39;00m i \u001b[38;5;129;01min\u001b[39;00m \u001b[38;5;28mrange\u001b[39m(\u001b[32m5\u001b[39m):\n",
      "\u001b[31mNameError\u001b[39m: name 'plt' is not defined"
     ]
    }
   ],
   "source": [
    "plt.figure(figsize=(10, 6))\n",
    "colors = ['red', 'blue', 'hotpink', 'orange', 'green']\n",
    "for i in range(5):\n",
    "    for j in clusters[i]:\n",
    "        plt.scatter(df.iloc[j]['Annual Income (k$)'], df.iloc[j]['Spending Score (1-100)'], color=colors[i], alpha=0.5)\n",
    "for centroid in centroids:\n",
    "    plt.scatter(centroid[0], centroid[1], color='black', marker='x', s=100)\n",
    "plt.title('Répartition des clients selon le revenu annuel et le Spending Score')\n",
    "plt.xlabel('Revenu Annuel (k$)')\n",
    "plt.ylabel('Spending Score (1-100)')\n",
    "plt.grid(True)\n",
    "plt.savefig('CustomersSegmentation.png')\n",
    "plt.show()"
   ]
  },
  {
   "cell_type": "markdown",
   "id": "7e16de88-73d0-4bfe-ac60-cba9048b05f1",
   "metadata": {},
   "source": [
    "# Analyse des Segments de Clients du Mall Customer Segmentation Data\n",
    "\n",
    "## Introduction\n",
    "L'objectif de cette analyse est de segmenter les clients d'un centre commercial en fonction de leurs revenus et de leurs comportements d'achat. Nous avons identifié cinq clusters distincts après l'application de l'algorithme de clustering K-Means. Voici une analyse détaillée de chaque segment et des recommandations stratégiques associées.\n",
    "\n",
    "## Cluster 1: Earning High but Spending Less (Couleur orange)\n",
    "\n",
    "### Caractéristiques\n",
    "Les clients de ce cluster ont des revenus élevés mais un faible score de dépenses.\n",
    "\n",
    "### Analyse\n",
    "Ces clients peuvent être plus prudents dans leurs achats, préférant des produits de haute qualité mais limitant leurs dépenses. Ils peuvent aussi être plus sélectifs dans leurs choix, n'achetant que des produits qui correspondent à leurs besoins spécifiques.\n",
    "\n",
    "### Stratégie Recommandée\n",
    "- Proposer des **produits haut de gamme** ou **luxe** pour répondre aux besoins de ce groupe.\n",
    "- Offrir des **services personnalisés** ou des expériences qui ajoutent de la valeur.\n",
    "- Utiliser des **programmes de fidélité** pour encourager des achats plus fréquents.\n",
    "\n",
    "## Cluster 2: Average in Terms of Earning and Spending (Couleur rouge)\n",
    "\n",
    "### Caractéristiques\n",
    "Les clients de ce cluster ont des revenus moyens et des comportements d'achat relativement modérés.\n",
    "\n",
    "### Analyse\n",
    "Ce groupe représente une large portion de la clientèle. Les clients sont modérés dans leurs achats, cherchant des produits de qualité à prix abordable. Ils sont sensibles aux promotions et aux offres spéciales.\n",
    "\n",
    "### Stratégie Recommandée\n",
    "- Proposer des **offres groupées** ou des **réductions** pour encourager des achats plus importants.\n",
    "- Créer des **programmes de fidélité** pour inciter à l'achat récurrent.\n",
    "- Offrir des **promotions ciblées** sur les produits populaires.\n",
    "\n",
    "## Cluster 3: Earning High and Spending High (Couleur verte) [Target Set]\n",
    "\n",
    "### Caractéristiques\n",
    "Les clients de ce cluster ont à la fois des revenus élevés et un score de dépenses élevé, ce qui les rend très rentables.\n",
    "\n",
    "### Analyse\n",
    "Ce groupe est constitué des clients les plus rentables et les plus engagés. Ils recherchent des produits premium et des services exclusifs. C'est le groupe cible idéal pour les stratégies de marketing.\n",
    "\n",
    "### Stratégie Recommandée\n",
    "- Offrir des **produits exclusifs** et **haut de gamme**.\n",
    "- Créer des **expériences sur mesure**, telles que des services VIP.\n",
    "- Cibler les **campagnes publicitaires** spécifiquement pour ce groupe.\n",
    "- Encourager les **achats répétés** avec des remises personnalisées.\n",
    "\n",
    "## Cluster 4: Earning Less but Spending More (Couleur bleue)\n",
    "\n",
    "### Caractéristiques\n",
    "Ces clients ont des revenus plus faibles mais un score de dépenses relativement élevé.\n",
    "\n",
    "### Analyse\n",
    "Les clients de ce groupe ont un comportement d'achat intéressant. Bien qu'ils aient des revenus plus faibles, ils dépensent de manière régulière. Cela peut indiquer une préférence pour des achats fréquents mais à faible coût.\n",
    "\n",
    "### Stratégie Recommandée\n",
    "- Proposer des **produits à faible coût** mais attractifs.\n",
    "- Offrir des **réductions fréquentes** pour attirer ce groupe.\n",
    "- Créer des **packs de produits** ou des offres combinées pour offrir plus de valeur.\n",
    "- Développer des **programmes de fidélité** pour encourager des achats réguliers.\n",
    "\n",
    "## Cluster 5: Earning Less, Spending Less (Couleur rose)\n",
    "\n",
    "### Caractéristiques\n",
    "Les clients de ce cluster ont à la fois des revenus faibles et un faible score de dépenses.\n",
    "\n",
    "### Analyse\n",
    "Ce groupe peut être constitué de clients sensibles au prix, qui privilégient les produits à bas prix et recherchent constamment des offres spéciales.\n",
    "\n",
    "### Stratégie Recommandée\n",
    "- Offrir des **produits bon marché** ou des **promotions sur des articles essentiels**.\n",
    "- Créer des **offres limitées** ou des **soldes** pour attirer ce groupe.\n",
    "- Mettre en place des **programmes de fidélité** qui récompensent les achats réguliers.\n",
    "- Proposer des **options de financement** pour rendre les achats plus accessibles.\n",
    "\n",
    "## Conclusion\n",
    "Cette segmentation permet de mieux comprendre les comportements d'achat des clients et d'adopter des stratégies marketing adaptées à chaque groupe. Les actions proposées permettront de maximiser la rentabilité et la fidélisation des clients en fonction de leurs caractéristiques spécifiques.\n"
   ]
  },
  {
   "cell_type": "code",
   "execution_count": null,
   "id": "46106d6b-e1ed-47e5-a987-56f7ea6c1bc9",
   "metadata": {},
   "outputs": [],
   "source": []
  }
 ],
 "metadata": {
  "kernelspec": {
   "display_name": "Python 3 (ipykernel)",
   "language": "python",
   "name": "python3"
  },
  "language_info": {
   "codemirror_mode": {
    "name": "ipython",
    "version": 3
   },
   "file_extension": ".py",
   "mimetype": "text/x-python",
   "name": "python",
   "nbconvert_exporter": "python",
   "pygments_lexer": "ipython3",
   "version": "3.12.3"
  }
 },
 "nbformat": 4,
 "nbformat_minor": 5
}
